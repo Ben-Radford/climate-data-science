{
 "cells": [
  {
   "cell_type": "markdown",
   "metadata": {},
   "source": [
    "## Seasonal Analysis with Xarray."
   ]
  },
  {
   "cell_type": "markdown",
   "metadata": {},
   "source": [
    "As a complement for the annual cycle kind of analysis, where we have one average value for each calendar month, there's also the seasonal kind of analysis based on the seasons of the year (hence the name).\n",
    "\n",
    "Xarray also provides us with a way to do this, but as was discussed [here](https://github.com/pydata/xarray/issues/810) the pandas-based solution might not be the best one. Also, there are times when you simply don't want to use the \"official\" seasons and want to define them yourself. \n",
    "\n",
    "The following example gives one simple solution among many. "
   ]
  },
  {
   "cell_type": "code",
   "execution_count": 1,
   "metadata": {
    "collapsed": true
   },
   "outputs": [],
   "source": [
    "import matplotlib.pyplot   as plt\n",
    "import cartopy.crs         as ccrs\n",
    "import cartopy.feature     as cf\n",
    "import cartopy             as cartopy\n",
    "import numpy               as np\n",
    "import xarray              as xr\n",
    "import datetime\n",
    "\n",
    "\n",
    "from functions    \t\t   import* # from functions.py\n",
    "from cartopy.mpl.ticker    import LongitudeFormatter, LatitudeFormatter"
   ]
  },
  {
   "cell_type": "markdown",
   "metadata": {},
   "source": [
    "Have in mind that we will use the Class version of the annual cycle analysis made in the [last notebook](http://nbviewer.jupyter.org/github/willyhagi/climate-statistics/blob/master/Jupyter-Notebooks/annual_cycle.ipynb), which will be imported here from the ['functions.py'](https://github.com/willyhagi/climate-statistics/blob/master/Python-Scripts/functions.py) script you can get at the repository."
   ]
  },
  {
   "cell_type": "code",
   "execution_count": 2,
   "metadata": {
    "collapsed": true
   },
   "outputs": [],
   "source": [
    "##----- read netcdf file\n",
    "dset  =  xr.open_dataset('precip.mon.total.1x1.v7.nc')\n",
    "var   =  dset['precip'][:,:,:]\n",
    "lat   =  dset['lat'][:]\n",
    "lon   =  dset['lon'][:]\n",
    "\n",
    "\n",
    "\n",
    "##----- if you want to select a certain area (and time) \n",
    "\n",
    "# south america\n",
    "lat1  =  12  \n",
    "lat2  =  -50  \n",
    "lon1  =  270  \n",
    "lon2  =  330  \n",
    "\n",
    "\n",
    "time1 = '1981-1-1' ; time2 = '2010-12-1'\n",
    "\n",
    "\n",
    "\n",
    "##----- numpy array converting\n",
    "lon  =  var.sel(lon=slice(lon1,lon2))  \n",
    "lon  =  np.asarray(lon.lon.values)\n",
    "\n",
    "lat  =  var.sel(lat=slice(lat1,lat2)) \n",
    "lat  =  np.asarray(lat.lat.values)\n",
    "\n",
    "\n",
    "##----- slicing\n",
    "var  =  var.sel(lat=slice(lat1,lat2),\n",
    "                lon=slice(lon1,lon2),\n",
    "                time=slice(time1,time2))"
   ]
  },
  {
   "cell_type": "markdown",
   "metadata": {},
   "source": [
    "Our simple solution comes now. Let's define the JJA season (austral winter or boreal summer) using an array with the corresponding month numbers."
   ]
  },
  {
   "cell_type": "code",
   "execution_count": 3,
   "metadata": {},
   "outputs": [
    {
     "name": "stdout",
     "output_type": "stream",
     "text": [
      "(360, 62, 60)\n"
     ]
    }
   ],
   "source": [
    "print (var.shape)"
   ]
  },
  {
   "cell_type": "markdown",
   "metadata": {},
   "source": [
    "As you can see, we have all the months for the 1981-2010 period.  "
   ]
  },
  {
   "cell_type": "code",
   "execution_count": 4,
   "metadata": {
    "collapsed": true
   },
   "outputs": [],
   "source": [
    "class Seasonal:\n",
    "    def __init__(self, data, m1, m2, m3): # this can be extended to n months\n",
    "        self.data  =  data\n",
    "        self.m1    =  m1\n",
    "        self.m2    =  m2\n",
    "        self.m3    =  m3\n",
    "\n",
    "    def select_months(self, month):\n",
    "        return (month == self.m1) | (month == self.m2) | (month == self.m3)\n",
    "\n",
    "    def season(self):\n",
    "        # season will return n months for the whole time period of your dataset\n",
    "        self.svar =  self.data.sel(time = self.select_months(self.data['time.month']))\n",
    "        return self.svar"
   ]
  },
  {
   "cell_type": "markdown",
   "metadata": {},
   "source": [
    "This simple class says: we will take from the parameter 'month' those values with months numbered (from 1 to 12) by m1, m2 and m3. The '|' symbol is a bitwise 'or' operator, you can learn more about those logical structures [here.](https://wiki.python.org/moin/BitwiseOperators)\n",
    "\n",
    "Then Xarray comes to the rescue at the 'season' function and we select the months for our dataset with the 'sel' argument."
   ]
  },
  {
   "cell_type": "code",
   "execution_count": 5,
   "metadata": {
    "collapsed": true
   },
   "outputs": [],
   "source": [
    "jja  =  Seasonal(var, 6, 7, 8)  # putting it to work...\n",
    "jja  =  jja.season()"
   ]
  },
  {
   "cell_type": "code",
   "execution_count": 6,
   "metadata": {},
   "outputs": [
    {
     "name": "stdout",
     "output_type": "stream",
     "text": [
      "(90, 62, 60)\n"
     ]
    }
   ],
   "source": [
    "print (jja.shape)"
   ]
  },
  {
   "cell_type": "markdown",
   "metadata": {},
   "source": [
    "Now we have 90 months for our JJA season from the 1981-2010 period, exactly as it should be! The following code is just the annual cycle all over again, hope you're not already bored."
   ]
  },
  {
   "cell_type": "code",
   "execution_count": 7,
   "metadata": {
    "collapsed": true
   },
   "outputs": [],
   "source": [
    "#--- gridded seasonal averages\n",
    "ijja  =  Demean(jja, lat1, lat2, lon1, lon2, time1, time2)\n",
    "mjja  =  ijja.average()\n",
    "mjja  =  mjja.mean(axis=0)"
   ]
  },
  {
   "cell_type": "code",
   "execution_count": 8,
   "metadata": {
    "scrolled": true
   },
   "outputs": [
    {
     "name": "stdout",
     "output_type": "stream",
     "text": [
      "(62, 60)\n"
     ]
    }
   ],
   "source": [
    "print (mjja.shape)"
   ]
  },
  {
   "cell_type": "markdown",
   "metadata": {},
   "source": [
    "The only difference is that we are using the 'Demean' class designed for the annual cycle (from functions.py). On the first 'mjja' line, we still don't have the seasonal average as we want; we will get it at the last line, with the 'mean' argument (check this out!).\n",
    "\n",
    "Onwards to the fun part, plotting! "
   ]
  },
  {
   "cell_type": "code",
   "execution_count": 9,
   "metadata": {},
   "outputs": [
    {
     "data": {
      "image/png": "[encoded data removed]",
      "text/plain": [
       "<matplotlib.figure.Figure at 0xa675908c>"
      ]
     },
     "metadata": {},
     "output_type": "display_data"
    }
   ],
   "source": [
    "##----------------------- PLOTTING\n",
    "plt.figure(figsize=(8,4))\n",
    "proj  =  ccrs.PlateCarree()\n",
    "ax = plt.axes(projection=proj)\n",
    "inter = np.arange(0, 600, 100)\n",
    "\n",
    "#ax.set_extent([250, 340, -50, 15], proj)             \n",
    "ax.add_feature(cf.BORDERS)\n",
    "ax.add_feature(cf.COASTLINE)\n",
    "ax.coastlines(resolution='50m',color='black')\n",
    "x_lons = np.arange(-85,-15,20) \n",
    "y_lats = np.arange(-70,50,10)\n",
    "tick_fs = 16\n",
    "ax.set_xticks(x_lons, minor=False, crs=proj)\n",
    "ax.set_yticks(y_lats, minor=False, crs=proj)\n",
    "lon_formatter = LongitudeFormatter(zero_direction_label=True,\n",
    "                                   number_format='.0f')\n",
    "lat_formatter = LatitudeFormatter()\n",
    "ax.xaxis.set_major_formatter(lon_formatter)\n",
    "ax.yaxis.set_major_formatter(lat_formatter)\n",
    "\n",
    "plt.contourf(lon, lat, mjja, inter,\n",
    "             transform=proj,\n",
    "             cmap=plt.get_cmap('Blues'))\n",
    "plt.colorbar(ax=ax, shrink=0.8)\n",
    "plt.title(u' JJA Precipitation (mm/month)')\n",
    "\n",
    "plt.show()"
   ]
  },
  {
   "cell_type": "markdown",
   "metadata": {},
   "source": [
    "We will rely heavily on the 'Seasonal' and 'Demean' classes for the next notebooks, so I hope things are clear now. As I said before, the solutions given here are just a few of the possible solutions one can get to solve those problems. The ones we just saw are mere experiments which work for the time, but there's a lot to do yet.\n",
    "\n",
    "And by the way, if you want to make an weighted average considering the number of days of each month the Xarray documentation has an [example](http://xarray.pydata.org/en/stable/examples/monthly-means.html) using the standard seasons. "
   ]
  },
  {
   "cell_type": "markdown",
   "metadata": {
    "collapsed": true
   },
   "source": [
    "## EDIT"
   ]
  },
  {
   "cell_type": "markdown",
   "metadata": {},
   "source": [
    "As discussed [here](https://stackoverflow.com/questions/48214357/select-xarray-pandas-index-based-on-a-list-of-months), the method above for the selection of months can impose limitations depending on the kind of analysis you might want to do. Another solution, which will be used and encouraged from now on, is the one following:"
   ]
  },
  {
   "cell_type": "code",
   "execution_count": 11,
   "metadata": {},
   "outputs": [],
   "source": [
    "months = [6,7,8] # for JJA\n",
    "season = var.sel(time = np.in1d( var['time.month'], months))"
   ]
  },
  {
   "cell_type": "code",
   "execution_count": 12,
   "metadata": {},
   "outputs": [
    {
     "name": "stdout",
     "output_type": "stream",
     "text": [
      "(90, 62, 60)\n"
     ]
    }
   ],
   "source": [
    "print (season.shape)"
   ]
  },
  {
   "cell_type": "markdown",
   "metadata": {},
   "source": [
    "The above method will give us the same result as we did before (exercise left for the reader). Also, 'np.in1d' can be replaced for 'np.isin' according to more recent versions of NumPy."
   ]
  }
 ],
 "metadata": {
  "kernelspec": {
   "display_name": "Python 3",
   "language": "python",
   "name": "python3"
  },
  "language_info": {
   "codemirror_mode": {
    "name": "ipython",
    "version": 3
   },
   "file_extension": ".py",
   "mimetype": "text/x-python",
   "name": "python",
   "nbconvert_exporter": "python",
   "pygments_lexer": "ipython3",
   "version": "3.6.1"
  }
 },
 "nbformat": 4,
 "nbformat_minor": 2
}
