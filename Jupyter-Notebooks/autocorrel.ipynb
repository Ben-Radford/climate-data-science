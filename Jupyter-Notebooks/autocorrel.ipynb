{
 "cells": [
  {
   "cell_type": "markdown",
   "metadata": {},
   "source": [
    "## Autocorrelation Function and Correlogram."
   ]
  },
  {
   "cell_type": "markdown",
   "metadata": {},
   "source": [
    "And now for something completely different."
   ]
  },
  {
   "cell_type": "markdown",
   "metadata": {},
   "source": [
    "Autocorrelation, as the name says, is the correlation of a time series (a dataset) with itself. Why is this any useful, for a start? \n",
    "\n",
    "It actually has some important applications. For example, it can be used to \"characterize the physical properties of an event over its lifetime\"$^{1}$ by giving us an idea of \"persistence\"$^{2}$ or even of \"independence\" between different occurrences of the same event. \n",
    "\n",
    "Also it can be used for an estimation of the \"effective number of degrees of freedom\"$^{3}$, vital for Hypothesis Testing and Statistical Significance. This topic is a very interesting and important one, filled with lots of old polemics which we shall adress later.\n",
    "\n",
    "Our goal here is to compute the Autocorrelation Functions of a time series and to plot its correlogram later. For this we shall use the Niño 3 index, obtained from the [Climate Indices](http://nbviewer.jupyter.org/github/willyhagi/climate-statistics/blob/master/Jupyter-Notebooks/annual_cycle.ipynb) lesson, here defined for the 1951-2015 period.\n",
    "\n",
    "By the way, I recommend you to read a very good introduction to Autocorrelations [here.](A Gentle Introduction to Autocorrelation and Partial Autocorrelation)"
   ]
  },
  {
   "cell_type": "code",
   "execution_count": 2,
   "metadata": {},
   "outputs": [
    {
     "name": "stderr",
     "output_type": "stream",
     "text": [
      "/home/willyhagi/anaconda3/lib/python3.6/site-packages/statsmodels/compat/pandas.py:56: FutureWarning: The pandas.core.datetools module is deprecated and will be removed in a future version. Please use the pandas.tseries module instead.\n",
      "  from pandas.core import datetools\n"
     ]
    }
   ],
   "source": [
    "import numpy              as np\n",
    "import matplotlib.pylab   as plt\n",
    "import math\n",
    "\n",
    "\n",
    "from statsmodels.tsa.stattools      import acf\n",
    "from scipy.signal                   import detrend"
   ]
  },
  {
   "cell_type": "markdown",
   "metadata": {},
   "source": [
    "That's the punchline of our sketch. But don't worry, we can still use the [Autocorrelation Function](http://www.statsmodels.org/dev/generated/statsmodels.tsa.stattools.acf.html) from the StatsModel package (if we ignore it, maybe it will go away)."
   ]
  },
  {
   "cell_type": "code",
   "execution_count": 3,
   "metadata": {
    "collapsed": true
   },
   "outputs": [],
   "source": [
    "sst  =  np.loadtxt('nino3.asc')"
   ]
  },
  {
   "cell_type": "markdown",
   "metadata": {},
   "source": [
    "Thanks to StatsModel, the ACF will simply be:"
   ]
  },
  {
   "cell_type": "code",
   "execution_count": 4,
   "metadata": {
    "collapsed": true
   },
   "outputs": [],
   "source": [
    "##----- autocorrelation function and confidence intervals\n",
    "acf_total, conf  =  acf(sst, alpha=0.05, nlags=425, fft=True,\n",
    "                        unbiased=True)\n",
    "conf -= conf.mean(1)[:,None]  # lag 0 confidence intervals"
   ]
  },
  {
   "cell_type": "markdown",
   "metadata": {},
   "source": [
    "As you can see, there are lots of parameters available for the acf function (check them out!). We are also interested on the confidence interval levels (for alpha = 0.05, usually translated as '95% significance') from lag 0 and beyond. "
   ]
  },
  {
   "cell_type": "markdown",
   "metadata": {},
   "source": [
    "We can plot the first 10 (or all of them, if you want) values for our correlogram easily with Matplotlib, even though we can also use StatsModel to do the same."
   ]
  },
  {
   "cell_type": "code",
   "execution_count": 5,
   "metadata": {},
   "outputs": [
    {
     "data": {
      "image/png": "[encoded data removed]",
      "text/plain": [
       "<matplotlib.figure.Figure at 0xaa477fac>"
      ]
     },
     "metadata": {},
     "output_type": "display_data"
    }
   ],
   "source": [
    "plt.stem(np.arange(0,10,1), acf_total[0:10], linefmt='b-',\n",
    "                            markerfmt='bo', basefmt='r-')\n",
    "plt.plot(np.arange(0,10,1), conf[0:10], 'k--')\n",
    "plt.title(u'Correlogram for Niño 3 Index')\n",
    "plt.xlabel(u'Lags')\n",
    "plt.ylabel(u'ACF')\n",
    "plt.show()"
   ]
  },
  {
   "cell_type": "markdown",
   "metadata": {},
   "source": [
    "And this solves our problems. The second part is the estimation of the \"effective number of degrees of freedom\", usually defined as:\n",
    "\n",
    "$N_{ef} =  \\frac{N}{\\tau}$\n",
    "\n",
    "Where $N_{ef}$ is our effective number, N is the lenght of the time series and $\\tau$ we are defining here as the lag number where the first ACF value falls below the 95% significance line.\n",
    "\n",
    "$\\tau$ can be estimated using many different methods, and the one defined here is an unusual but valid one. We shall adress this later."
   ]
  },
  {
   "cell_type": "code",
   "execution_count": 6,
   "metadata": {
    "collapsed": true
   },
   "outputs": [],
   "source": [
    "def dof(acfunc, confint, N):\n",
    "    # estimating the effective sample size of data with acf\n",
    "    lag  =  np.where(acfunc < conf[:,1])\n",
    "    lag  =  lag[0][0]\n",
    "    nef  =  N / lag\n",
    "    return nef"
   ]
  },
  {
   "cell_type": "markdown",
   "metadata": {},
   "source": [
    "With the above function, we can get the lag number where the first value drops below the significance line and estimate the $N_{ef}$."
   ]
  },
  {
   "cell_type": "code",
   "execution_count": 7,
   "metadata": {},
   "outputs": [
    {
     "name": "stdout",
     "output_type": "stream",
     "text": [
      "8.125\n"
     ]
    }
   ],
   "source": [
    "##----- estimating the effective sample size\n",
    "n   = len(sst) / 12. # number of years\n",
    "df  =  dof(acf_total, conf, n )\n",
    "print (df)"
   ]
  },
  {
   "cell_type": "markdown",
   "metadata": {},
   "source": [
    "The N defined was the number of years (65, from the 1951-2015 period), but can be the whole length of the time series as well. You can see from the correlogram that the first value falls at lag 8, so 65/8 = 8.125. "
   ]
  },
  {
   "cell_type": "markdown",
   "metadata": {},
   "source": [
    "For Hypothesis Testing and Statistical Significance, that could be the value you would use to do it. That's the topic of our next lesson, hope you've enjoyed this one!"
   ]
  },
  {
   "cell_type": "markdown",
   "metadata": {},
   "source": [
    "### NOTE: No statisticians were harmed in the making of this notebook."
   ]
  },
  {
   "cell_type": "markdown",
   "metadata": {},
   "source": [
    "## REFERENCES"
   ]
  },
  {
   "cell_type": "markdown",
   "metadata": {},
   "source": [
    "1 - Duchon, Claude, and Robert Hale. Time series analysis in meteorology and climatology: an introduction. Vol. 7. John Wiley & Sons, 2012.\n",
    "\n",
    "2 - Wilks, Daniel S. Statistical methods in the atmospheric sciences. Vol. 100. Academic press, 2011.\n",
    "\n",
    "3 - Thiébaux, H. Jean, and Francis W. Zwiers. \"The interpretation and estimation of effective sample size.\" Journal of Climate and Applied Meteorology 23.5 (1984): 800-811."
   ]
  }
 ],
 "metadata": {
  "kernelspec": {
   "display_name": "Python 3",
   "language": "python",
   "name": "python3"
  },
  "language_info": {
   "codemirror_mode": {
    "name": "ipython",
    "version": 3
   },
   "file_extension": ".py",
   "mimetype": "text/x-python",
   "name": "python",
   "nbconvert_exporter": "python",
   "pygments_lexer": "ipython3",
   "version": "3.6.1"
  }
 },
 "nbformat": 4,
 "nbformat_minor": 2
}
