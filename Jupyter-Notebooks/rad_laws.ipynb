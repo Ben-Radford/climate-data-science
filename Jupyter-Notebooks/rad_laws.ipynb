{
 "cells": [
  {
   "cell_type": "markdown",
   "metadata": {},
   "source": [
    "## An Introduction to Classes with Radiation Laws."
   ]
  },
  {
   "cell_type": "markdown",
   "metadata": {},
   "source": [
    " The concept of \"class\" is usually, if not always, connected to the Object Oriented Programming (OOP) framework. This can be seen as some kind of alternative to Sequential Programming, and indeed the two approaches have many practical differences.\n",
    " \n",
    " Now we will try to see the usefulness of OOP (and why you should start to learn it as soon as possible) first by showing how things are done sequentially, with the aid of the good old Blackbody Radiation Laws.\n",
    " \n",
    " By the way, if you are not familiar with these Laws you can read about them in many celebrated books on Meteorology$^{1,2}$."
   ]
  },
  {
   "cell_type": "markdown",
   "metadata": {},
   "source": [
    "First we will start by importing two very useful packages: NumPy and Matplotlib."
   ]
  },
  {
   "cell_type": "code",
   "execution_count": 1,
   "metadata": {},
   "outputs": [],
   "source": [
    "import numpy as np\n",
    "import matplotlib.pyplot as plt"
   ]
  },
  {
   "cell_type": "markdown",
   "metadata": {},
   "source": [
    "Now we can conveniently define a range for our wavelength ($ \\lambda$) values. Let's say, from 0.1 to 2.0 micrometers ($\\mu m$)."
   ]
  },
  {
   "cell_type": "code",
   "execution_count": 2,
   "metadata": {
    "collapsed": true
   },
   "outputs": [],
   "source": [
    "wvlg = np.arange(0.1,2.0,0.01) # wavelength\n",
    "lmbd = wvlg * 1E-6"
   ]
  },
  {
   "cell_type": "markdown",
   "metadata": {},
   "source": [
    "np.arange says: create an array from 0.1 to 1.99 at the pace of 0.01 (check this out!)"
   ]
  },
  {
   "cell_type": "markdown",
   "metadata": {},
   "source": [
    "The first Law we will use is, of course, Planck's Law. It can be defined as: \n",
    "\n",
    "$ B_{\\lambda}(T): \\frac {C_{1} \\lambda^{-5}} {\\pi (exp( \\frac{C_{2}} {\\lambda T}) -1)}  $\n",
    "\n",
    "Where $C_{1} = 3.74 \\times 10^{-16}$ $W m^{-2} $ and $C_{2} = 1.45 \\times 10^{-2}$ m K. \n",
    "\n",
    "To make things interesting we will plot an Emission Spectra for Blackbodies with different absolute temperatures (T), just like the ones from our textbooks."
   ]
  },
  {
   "cell_type": "markdown",
   "metadata": {
    "collapsed": true
   },
   "source": [
    "For simplicity, let us define $ \\frac{C_{2}} {\\lambda T} $ as a single variable Cx. That is:  "
   ]
  },
  {
   "cell_type": "code",
   "execution_count": 3,
   "metadata": {
    "collapsed": true
   },
   "outputs": [],
   "source": [
    "C1  =  3.74E-16\n",
    "C2  =  1.45E-2\n",
    "T1  =  5000.    # first absolute temperature value (K)\n",
    "Ca  =  C2 / (lmbd * T1)"
   ]
  },
  {
   "cell_type": "markdown",
   "metadata": {},
   "source": [
    "The Intensity of Emitted Radiation for a blackbody with absolute temperature of 5000 K will be:  "
   ]
  },
  {
   "cell_type": "code",
   "execution_count": 4,
   "metadata": {},
   "outputs": [],
   "source": [
    "Pa  =  C1 * (lmbd ** -5.) / (np.pi * ( np.exp(Ca)-1) )"
   ]
  },
  {
   "cell_type": "markdown",
   "metadata": {},
   "source": [
    "Now let us do the same for 6000 K and 7000 K."
   ]
  },
  {
   "cell_type": "code",
   "execution_count": 5,
   "metadata": {
    "collapsed": true
   },
   "outputs": [],
   "source": [
    "T2  =  6000 \n",
    "T3  =  7000\n",
    "\n",
    "Cb  =  C2 / (lmbd * T2)\n",
    "Cc  =  C2 / (lmbd * T3)\n",
    "\n",
    "Pb  =  C1 * (lmbd ** -5.) / (np.pi * (np.exp (Cb) -1))\n",
    "Pc  =  C1 * (lmbd ** -5.) / (np.pi * (np.exp (Cc) -1))"
   ]
  },
  {
   "cell_type": "markdown",
   "metadata": {},
   "source": [
    "Have in mind that since we want to compute B for different values of T, we are forced to make these repetitions to keep their results if we want to use them later. That's a downpoint of sequential programming."
   ]
  },
  {
   "cell_type": "markdown",
   "metadata": {},
   "source": [
    "Ok, now the fun part. Let's plot our spectra with matplotlib."
   ]
  },
  {
   "cell_type": "code",
   "execution_count": 6,
   "metadata": {},
   "outputs": [
    {
     "data": {
      "image/png": "[encoded data removed]",
      "text/plain": [
       "<matplotlib.figure.Figure at 0xae738a0c>"
      ]
     },
     "metadata": {},
     "output_type": "display_data"
    }
   ],
   "source": [
    "plt.plot(wvlg, Pa * 1E-6,'blue',   label='5000 K')\n",
    "plt.plot(wvlg, Pb * 1E-6,'orange', label='6000 K')\n",
    "plt.plot(wvlg, Pc * 1E-6,'red',    label='7000 K')\n",
    "plt.legend(loc='upper right')\n",
    "plt.ticklabel_format(style='sci', axis='y')\n",
    "plt.title(\"Planck's Function\")\n",
    "plt.xlabel(r'Wavelength ($\\mu m$)')\n",
    "plt.ylabel(r'$ B_{\\lambda} (W m^{2} sr^{-1} \\mu m) \\times 10^{7}  $')\n",
    "\n",
    "\n",
    "plt.show()"
   ]
  },
  {
   "cell_type": "markdown",
   "metadata": {},
   "source": [
    "Now that we made it, we can go on with the other Laws. Next is the Stefan-Boltzmann Law, which can be defined as:\n",
    "\n",
    "$ E = \\epsilon \\sigma T^{4} $, where $\\epsilon$ is the body's emissivity (1 for a blackbody) and $\\sigma = 5.67 \\times 10^{-8}$ $W m^{-2} K^{-4}$ the Stefan-Boltzmann constant.\n",
    "\n",
    "We will compute it for the same temperature values we used above for Planck's Law."
   ]
  },
  {
   "cell_type": "code",
   "execution_count": 7,
   "metadata": {
    "collapsed": true
   },
   "outputs": [],
   "source": [
    "epsilon =  1 \n",
    "sigma   =  5.67 * 1E-8\n",
    "\n",
    "Ea  =  epsilon * sigma * T1 ** 4\n",
    "Eb  =  epsilon * sigma * T2 ** 4\n",
    "Ec  =  epsilon * sigma * T3 ** 4"
   ]
  },
  {
   "cell_type": "code",
   "execution_count": 8,
   "metadata": {},
   "outputs": [
    {
     "name": "stdout",
     "output_type": "stream",
     "text": [
      "35437500.0 73483200.0 136136700.0\n"
     ]
    }
   ],
   "source": [
    "print (Ea, Eb, Ec)"
   ]
  },
  {
   "cell_type": "markdown",
   "metadata": {},
   "source": [
    "To finish the sequential part of this notebook, now it's time for Wien's Displacement Law:\n",
    "\n",
    "$ \\lambda_{m} = \\frac{2897}{T} $  \n",
    "\n",
    "This one is a piece of cake, isn't it?"
   ]
  },
  {
   "cell_type": "code",
   "execution_count": 9,
   "metadata": {
    "collapsed": true
   },
   "outputs": [],
   "source": [
    "Wa  = 2897 / 5000\n",
    "Wb  = 2897 / 6000\n",
    "Wc  = 2897 / 7000"
   ]
  },
  {
   "cell_type": "code",
   "execution_count": 10,
   "metadata": {},
   "outputs": [
    {
     "name": "stdout",
     "output_type": "stream",
     "text": [
      "0.5794 0.48283333333333334 0.41385714285714287\n"
     ]
    }
   ],
   "source": [
    "print (Wa, Wb, Wc)"
   ]
  },
  {
   "cell_type": "markdown",
   "metadata": {},
   "source": [
    "Well, all of this code above is giving us an example of sequential programming. We can see we had to define lots of global variables and this is generally considered bad programming$^{3}$ especially if you're writing God knows how many lines of code, and it's very easy to change by accident one of these variables and get yourself some bad headaches and lost hours."
   ]
  },
  {
   "cell_type": "markdown",
   "metadata": {},
   "source": [
    "Classes, far from being simply a sociological concept preferred by Marxists, are very useful programming structures. One should approach this concept right after being familiar with the concept of 'functions' (if you're not, I recommend you to spend some time learning it), because Classes are sets of variables and functions as well."
   ]
  },
  {
   "cell_type": "markdown",
   "metadata": {},
   "source": [
    "Every class has a name, which by convention starts with a capital letter. Let us call it 'Rad'.\n",
    "\n",
    "Also every class starts with a function called 'constructor', used to define your variables inside the class. That is:"
   ]
  },
  {
   "cell_type": "code",
   "execution_count": 11,
   "metadata": {
    "collapsed": true
   },
   "outputs": [],
   "source": [
    "class Rad:\n",
    "    def __init__(self, T, wvlg, epsilon): \n",
    "        self.T        =  T            # temperature (K)\n",
    "        self.wvlg     =  wvlg * 1E-6  # wavelength (m) \n",
    "        self.epsilon  =  epsilon      # emissivity"
   ]
  },
  {
   "cell_type": "markdown",
   "metadata": {},
   "source": [
    "For starters, the 'self' parameter can be a very mysterious one. We won't attempt to define it, just like some books on scientific computing usually do, but you can see it as a way to recognize your variables so you can carry them around your class without having to define them for every function there (this will be clearer soon). Also, be aware that indentation is very important when you are writing Python."
   ]
  },
  {
   "cell_type": "code",
   "execution_count": 12,
   "metadata": {
    "collapsed": true
   },
   "outputs": [],
   "source": [
    "    def planck(self, c1 = 3.74E-16, c2 = 1.45E-2):\n",
    "        self.c    =  c2 / (self.wvlg * self.T) \n",
    "        self.B    =  c1 * (self.wvlg ** -5.) / (np.pi*(np.exp(self.c)-1))\n",
    "        return  self.B \n",
    "\n",
    "    def stefan(self, sigma = 5.67E-8):\n",
    "        self.E  =  self.epsilon * sigma * (self.T**4.)\n",
    "        return self.E\n",
    "\n",
    "    def wien(self):\n",
    "        self.wmax = 2897 / self.T  # wavelength (micrometer) of the maximum monocromatic intensity\n",
    "        return self.wmax\n"
   ]
  },
  {
   "cell_type": "markdown",
   "metadata": {},
   "source": [
    "The class and it should be is:"
   ]
  },
  {
   "cell_type": "code",
   "execution_count": 13,
   "metadata": {
    "collapsed": true
   },
   "outputs": [],
   "source": [
    "class Rad:\n",
    "    def __init__(self, T, wvlg, epsilon): \n",
    "        self.T        =  T            # temperature (K)\n",
    "        self.wvlg     =  wvlg  # wavelength (m) \n",
    "        self.epsilon  =  epsilon      # emissivity\n",
    "               \n",
    "    def planck(self, c1 = 3.74E-16, c2 = 1.45E-2):\n",
    "        self.c    =  c2 / (self.wvlg * self.T) # this is just for simplicity\n",
    "        self.ex   =  np.exp(self.c, dtype=np.float64)\n",
    "        self.B    =  c1 * (self.wvlg ** -5.) / (np.pi*(self.ex-1))\n",
    "        return  self.B # intensity of emitted radiation\n",
    "\n",
    "    def stefan(self, sigma = 5.67E-8):\n",
    "        self.E  =  self.epsilon * sigma * (self.T**4.)\n",
    "        return self.E\n",
    "\n",
    "    def wien(self):\n",
    "        self.wmax = 2897 / self.T  # wavelength (micrometer) of the maximum monocromatic intensity\n",
    "        return self.wmax"
   ]
  },
  {
   "cell_type": "markdown",
   "metadata": {},
   "source": [
    "Just as we did before, the 'planck' function stands for Planck's Law, 'stefan' for Stefan-Boltzmann and 'wien' for Wien's. And that's it, all the Radiation Laws defined in a very simple way.\n",
    "\n",
    "Hopefully you will see the usefulness of the 'self' parameter now. We are saying that we will continue to use the variables of the constructor function for the other functions inside the class.\n",
    "\n",
    "Ok, now let's do what we have to do. First, we will put some values for our class. "
   ]
  },
  {
   "cell_type": "code",
   "execution_count": 14,
   "metadata": {},
   "outputs": [],
   "source": [
    "B1  =  Rad(5000,lmbd,1) \n",
    "B2  =  Rad(6000,lmbd,1)  \n",
    "B3  =  Rad(7000,lmbd,1) "
   ]
  },
  {
   "cell_type": "markdown",
   "metadata": {},
   "source": [
    "We have defined values for absolute temperature, wavelength and emissivity but still we have no calculations and no results. We are just saying the values to be used."
   ]
  },
  {
   "cell_type": "code",
   "execution_count": 15,
   "metadata": {},
   "outputs": [],
   "source": [
    "P1  =  B1.planck()\n",
    "P2  =  B2.planck()\n",
    "P3  =  B3.planck()"
   ]
  },
  {
   "cell_type": "markdown",
   "metadata": {},
   "source": [
    "P1, P2 and P3 are the results (yes, the results) for Planck's Law. In the same way, we can get the results for the other Laws from the values we defined for B1, B2 and B3."
   ]
  },
  {
   "cell_type": "code",
   "execution_count": 16,
   "metadata": {},
   "outputs": [],
   "source": [
    "S1  =  B1.stefan()\n",
    "S2  =  B2.stefan()\n",
    "S3  =  B3.stefan()\n",
    "\n",
    "W1  =  B1.wien()\n",
    "W2  =  B2.wien()\n",
    "W3  =  B3.wien()"
   ]
  },
  {
   "cell_type": "code",
   "execution_count": 17,
   "metadata": {
    "scrolled": true
   },
   "outputs": [
    {
     "name": "stdout",
     "output_type": "stream",
     "text": [
      "35437500.0 73483200.0 136136700.0\n"
     ]
    }
   ],
   "source": [
    "print (S1, S2, S3)"
   ]
  },
  {
   "cell_type": "code",
   "execution_count": 18,
   "metadata": {},
   "outputs": [
    {
     "name": "stdout",
     "output_type": "stream",
     "text": [
      "0.5794 0.48283333333333334 0.41385714285714287\n"
     ]
    }
   ],
   "source": [
    "print (W1, W2, W3)"
   ]
  },
  {
   "cell_type": "markdown",
   "metadata": {},
   "source": [
    "So, everything is as it should be. Let's remake the spectra and be done with this lesson. \n",
    "\n",
    "Hope you have enjoyed it!"
   ]
  },
  {
   "cell_type": "code",
   "execution_count": 19,
   "metadata": {},
   "outputs": [
    {
     "data": {
      "image/png": "[encoded data removed]",
      "text/plain": [
       "<matplotlib.figure.Figure at 0xac8b2fac>"
      ]
     },
     "metadata": {},
     "output_type": "display_data"
    }
   ],
   "source": [
    "plt.plot(wvlg, P1 * 1E-6 ,'blue',   label='5000 K')\n",
    "plt.plot(wvlg, P2 * 1E-6,'orange', label='6000 K')\n",
    "plt.plot(wvlg, P3 * 1E-6,'red',    label='7000 K')\n",
    "plt.legend(loc='upper right')\n",
    "plt.ticklabel_format(style='sci', axis='y')\n",
    "plt.title(\"Planck's Function\")\n",
    "plt.xlabel(r'Wavelength ($\\mu m$)')\n",
    "plt.ylabel(r'$ B_{\\lambda} (W m^{2} sr^{-1} \\mu m) \\times 10^{7}  $')\n",
    "\n",
    "\n",
    "plt.show()"
   ]
  },
  {
   "cell_type": "markdown",
   "metadata": {},
   "source": [
    "## REFERENCES "
   ]
  },
  {
   "cell_type": "markdown",
   "metadata": {},
   "source": [
    "1 - Liou, Kuo-Nan. An introduction to atmospheric radiation. Vol. 84. Academic press, 2002.\n",
    "\n",
    "2 - Wallace, John M., and Peter V. Hobbs. Atmospheric science: an introductory survey. Vol. 92. Academic press, 2006.\n",
    "\n",
    "3 - Langtangen, Hans Petter. A primer on scientific programming with Python. Vol. 7. Springer, 2009."
   ]
  },
  {
   "cell_type": "code",
   "execution_count": null,
   "metadata": {
    "collapsed": true
   },
   "outputs": [],
   "source": []
  }
 ],
 "metadata": {
  "kernelspec": {
   "display_name": "Python 3",
   "language": "python",
   "name": "python3"
  },
  "language_info": {
   "codemirror_mode": {
    "name": "ipython",
    "version": 3
   },
   "file_extension": ".py",
   "mimetype": "text/x-python",
   "name": "python",
   "nbconvert_exporter": "python",
   "pygments_lexer": "ipython3",
   "version": "3.6.1"
  }
 },
 "nbformat": 4,
 "nbformat_minor": 2
}
